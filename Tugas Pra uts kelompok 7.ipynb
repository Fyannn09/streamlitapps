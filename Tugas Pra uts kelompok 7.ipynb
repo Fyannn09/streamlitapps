{
 "cells": [
  {
   "cell_type": "markdown",
   "metadata": {
    "id": "WWttznT0ZhzV"
   },
   "source": [
    "# Proyek Analisis Data: Nama dataset\n",
    "- Kelompok : 7\n",
    "- Anggota :</br>\n",
    "10123182 Moch Dicky</br>\n",
    "10123178 Muhammad Faiz Arie Tito</br>\n",
    "10123183 Kaka Sofyan M</br>\n",
    "10123186 galang nugraha</br>\n",
    "10123173 Fauzi Muttaqin</br>\n",
    "10123202 Rizal AF</br>"
   ]
  },
  {
   "cell_type": "markdown",
   "metadata": {
    "id": "F-f303ymZhzo"
   },
   "source": [
    "## Menentukan Pertanyaan Bisnis"
   ]
  },
  {
   "cell_type": "markdown",
   "metadata": {
    "id": "2RErdaI4Zhzr"
   },
   "source": [
    "- PERTANYAAN 1 : APAKAH ADA PERBEDAAN SUHU TERENDAH DARI KETIGA STASIUN TERSEBUT?  10123202 - FAUZI MUTTAQIN\n",
    "- PERTANYAAN 2 : TAMPILAN DATA HUJAN  10123178 - Muhammad Faiz Arie Tito\n",
    "- PERTANYAAN 3 : Berapa Rata-Rata Konsentrasi Polutan (PM2.5, PM10, SO2, NO2) Selama Kecepatan Angin < 0.4? 10123202 - Rizal AF\n",
    "- PERTANYAAN 4 : Apakah ada hari-hari dengan konsentrasi PM2.5 ekstrem (sangat rendah) di setiap lokasi, dan kapan itu terjadi? 10123183 - Kaka Sofyan M\n",
    "- PERTANYAAN 5 : Pada bulan apa konsentrasi PM10 rata-rata tertinggi selama setahun? 10123186 - galang nugraha\n",
    "- PERTANYAAN 6 : Pada jam berapa konsentrasi PM2.5 menunjukkan nilai rata-rata terendah di stasiun Aotizhongxin? 10123182 - Moch Dicky "
   ]
  },
  {
   "cell_type": "markdown",
   "metadata": {
    "id": "QGQRuwDJZhzw"
   },
   "source": [
    "## Menyiapkan semua library yang dibuthkan"
   ]
  },
  {
   "cell_type": "code",
   "execution_count": 1,
   "metadata": {
    "id": "ULgrY5VEZhzy"
   },
   "outputs": [],
   "source": [
    "import pandas as pd \n",
    "import numpy as np \n",
    "import matplotlib.pyplot as plt\n",
    "dir(plt)\n",
    "import warnings\n",
    "warnings.filterwarnings('ignore')"
   ]
  },
  {
   "cell_type": "code",
   "execution_count": 2,
   "metadata": {},
   "outputs": [
    {
     "data": {
      "text/html": [
       "<div>\n",
       "<style scoped>\n",
       "    .dataframe tbody tr th:only-of-type {\n",
       "        vertical-align: middle;\n",
       "    }\n",
       "\n",
       "    .dataframe tbody tr th {\n",
       "        vertical-align: top;\n",
       "    }\n",
       "\n",
       "    .dataframe thead th {\n",
       "        text-align: right;\n",
       "    }\n",
       "</style>\n",
       "<table border=\"1\" class=\"dataframe\">\n",
       "  <thead>\n",
       "    <tr style=\"text-align: right;\">\n",
       "      <th></th>\n",
       "      <th>No</th>\n",
       "      <th>year</th>\n",
       "      <th>month</th>\n",
       "      <th>day</th>\n",
       "      <th>hour</th>\n",
       "      <th>PM2.5</th>\n",
       "      <th>PM10</th>\n",
       "      <th>SO2</th>\n",
       "      <th>NO2</th>\n",
       "      <th>CO</th>\n",
       "      <th>O3</th>\n",
       "      <th>TEMP</th>\n",
       "      <th>PRES</th>\n",
       "      <th>DEWP</th>\n",
       "      <th>RAIN</th>\n",
       "      <th>wd</th>\n",
       "      <th>WSPM</th>\n",
       "      <th>station</th>\n",
       "    </tr>\n",
       "  </thead>\n",
       "  <tbody>\n",
       "    <tr>\n",
       "      <th>0</th>\n",
       "      <td>1</td>\n",
       "      <td>2013</td>\n",
       "      <td>3</td>\n",
       "      <td>1</td>\n",
       "      <td>0</td>\n",
       "      <td>4.0</td>\n",
       "      <td>4.0</td>\n",
       "      <td>4.0</td>\n",
       "      <td>7.0</td>\n",
       "      <td>300.0</td>\n",
       "      <td>77.0</td>\n",
       "      <td>-0.7</td>\n",
       "      <td>1023.0</td>\n",
       "      <td>-18.8</td>\n",
       "      <td>0.0</td>\n",
       "      <td>NNW</td>\n",
       "      <td>4.4</td>\n",
       "      <td>Aotizhongxin</td>\n",
       "    </tr>\n",
       "    <tr>\n",
       "      <th>1</th>\n",
       "      <td>2</td>\n",
       "      <td>2013</td>\n",
       "      <td>3</td>\n",
       "      <td>1</td>\n",
       "      <td>1</td>\n",
       "      <td>8.0</td>\n",
       "      <td>8.0</td>\n",
       "      <td>4.0</td>\n",
       "      <td>7.0</td>\n",
       "      <td>300.0</td>\n",
       "      <td>77.0</td>\n",
       "      <td>-1.1</td>\n",
       "      <td>1023.2</td>\n",
       "      <td>-18.2</td>\n",
       "      <td>0.0</td>\n",
       "      <td>N</td>\n",
       "      <td>4.7</td>\n",
       "      <td>Aotizhongxin</td>\n",
       "    </tr>\n",
       "    <tr>\n",
       "      <th>2</th>\n",
       "      <td>3</td>\n",
       "      <td>2013</td>\n",
       "      <td>3</td>\n",
       "      <td>1</td>\n",
       "      <td>2</td>\n",
       "      <td>7.0</td>\n",
       "      <td>7.0</td>\n",
       "      <td>5.0</td>\n",
       "      <td>10.0</td>\n",
       "      <td>300.0</td>\n",
       "      <td>73.0</td>\n",
       "      <td>-1.1</td>\n",
       "      <td>1023.5</td>\n",
       "      <td>-18.2</td>\n",
       "      <td>0.0</td>\n",
       "      <td>NNW</td>\n",
       "      <td>5.6</td>\n",
       "      <td>Aotizhongxin</td>\n",
       "    </tr>\n",
       "    <tr>\n",
       "      <th>3</th>\n",
       "      <td>4</td>\n",
       "      <td>2013</td>\n",
       "      <td>3</td>\n",
       "      <td>1</td>\n",
       "      <td>3</td>\n",
       "      <td>6.0</td>\n",
       "      <td>6.0</td>\n",
       "      <td>11.0</td>\n",
       "      <td>11.0</td>\n",
       "      <td>300.0</td>\n",
       "      <td>72.0</td>\n",
       "      <td>-1.4</td>\n",
       "      <td>1024.5</td>\n",
       "      <td>-19.4</td>\n",
       "      <td>0.0</td>\n",
       "      <td>NW</td>\n",
       "      <td>3.1</td>\n",
       "      <td>Aotizhongxin</td>\n",
       "    </tr>\n",
       "    <tr>\n",
       "      <th>4</th>\n",
       "      <td>5</td>\n",
       "      <td>2013</td>\n",
       "      <td>3</td>\n",
       "      <td>1</td>\n",
       "      <td>4</td>\n",
       "      <td>3.0</td>\n",
       "      <td>3.0</td>\n",
       "      <td>12.0</td>\n",
       "      <td>12.0</td>\n",
       "      <td>300.0</td>\n",
       "      <td>72.0</td>\n",
       "      <td>-2.0</td>\n",
       "      <td>1025.2</td>\n",
       "      <td>-19.5</td>\n",
       "      <td>0.0</td>\n",
       "      <td>N</td>\n",
       "      <td>2.0</td>\n",
       "      <td>Aotizhongxin</td>\n",
       "    </tr>\n",
       "  </tbody>\n",
       "</table>\n",
       "</div>"
      ],
      "text/plain": [
       "   No  year  month  day  hour  PM2.5  PM10   SO2   NO2     CO    O3  TEMP  \\\n",
       "0   1  2013      3    1     0    4.0   4.0   4.0   7.0  300.0  77.0  -0.7   \n",
       "1   2  2013      3    1     1    8.0   8.0   4.0   7.0  300.0  77.0  -1.1   \n",
       "2   3  2013      3    1     2    7.0   7.0   5.0  10.0  300.0  73.0  -1.1   \n",
       "3   4  2013      3    1     3    6.0   6.0  11.0  11.0  300.0  72.0  -1.4   \n",
       "4   5  2013      3    1     4    3.0   3.0  12.0  12.0  300.0  72.0  -2.0   \n",
       "\n",
       "     PRES  DEWP  RAIN   wd  WSPM       station  \n",
       "0  1023.0 -18.8   0.0  NNW   4.4  Aotizhongxin  \n",
       "1  1023.2 -18.2   0.0    N   4.7  Aotizhongxin  \n",
       "2  1023.5 -18.2   0.0  NNW   5.6  Aotizhongxin  \n",
       "3  1024.5 -19.4   0.0   NW   3.1  Aotizhongxin  \n",
       "4  1025.2 -19.5   0.0    N   2.0  Aotizhongxin  "
      ]
     },
     "execution_count": 2,
     "metadata": {},
     "output_type": "execute_result"
    }
   ],
   "source": [
    "#1 Membaca File CSV\n",
    "df = pd.read_csv('PRSA_Data_Aotizhongxin_20130301-20170228.csv')\n",
    "df.head()"
   ]
  },
  {
   "cell_type": "code",
   "execution_count": null,
   "metadata": {},
   "outputs": [],
   "source": []
  },
  {
   "cell_type": "markdown",
   "metadata": {
    "id": "YLiIgIWbZhz1"
   },
   "source": [
    "## Data Wrangling\n",
    "Tahapan ini merupakan tahapan untuk mempersiapkan data mentah menjadi bentuk yang lebih bersih, terstruktur, dan siap digunakan untuk proses analisis data. pada tahapan ini terdiri dari\n",
    "\n",
    "\n",
    "1.   Gathering Data\n",
    "2.   Assessing Data\n",
    "3. Cleaning Data\n",
    "\n"
   ]
  },
  {
   "cell_type": "markdown",
   "metadata": {
    "id": "yVWqMrDrZhz3"
   },
   "source": [
    "### Gathering Data (Pengumpulan Data)\n",
    "ini merupakan tahapan dalam pengumpulan data dari berbagai sumber, disini merupakan tahapan import dataset kedalam notebook"
   ]
  },
  {
   "cell_type": "code",
   "execution_count": 3,
   "metadata": {
    "id": "0UyAork7Zhz7"
   },
   "outputs": [
    {
     "data": {
      "text/html": [
       "<div>\n",
       "<style scoped>\n",
       "    .dataframe tbody tr th:only-of-type {\n",
       "        vertical-align: middle;\n",
       "    }\n",
       "\n",
       "    .dataframe tbody tr th {\n",
       "        vertical-align: top;\n",
       "    }\n",
       "\n",
       "    .dataframe thead th {\n",
       "        text-align: right;\n",
       "    }\n",
       "</style>\n",
       "<table border=\"1\" class=\"dataframe\">\n",
       "  <thead>\n",
       "    <tr style=\"text-align: right;\">\n",
       "      <th></th>\n",
       "      <th>No</th>\n",
       "      <th>year</th>\n",
       "      <th>month</th>\n",
       "      <th>day</th>\n",
       "      <th>hour</th>\n",
       "      <th>PM2.5</th>\n",
       "      <th>PM10</th>\n",
       "      <th>SO2</th>\n",
       "      <th>NO2</th>\n",
       "      <th>CO</th>\n",
       "      <th>O3</th>\n",
       "      <th>TEMP</th>\n",
       "      <th>PRES</th>\n",
       "      <th>DEWP</th>\n",
       "      <th>RAIN</th>\n",
       "      <th>wd</th>\n",
       "      <th>WSPM</th>\n",
       "      <th>station</th>\n",
       "    </tr>\n",
       "  </thead>\n",
       "  <tbody>\n",
       "    <tr>\n",
       "      <th>0</th>\n",
       "      <td>1</td>\n",
       "      <td>2013</td>\n",
       "      <td>3</td>\n",
       "      <td>1</td>\n",
       "      <td>0</td>\n",
       "      <td>4.0</td>\n",
       "      <td>4.0</td>\n",
       "      <td>4.0</td>\n",
       "      <td>7.0</td>\n",
       "      <td>300.0</td>\n",
       "      <td>77.0</td>\n",
       "      <td>-0.7</td>\n",
       "      <td>1023.0</td>\n",
       "      <td>-18.8</td>\n",
       "      <td>0.0</td>\n",
       "      <td>NNW</td>\n",
       "      <td>4.4</td>\n",
       "      <td>Aotizhongxin</td>\n",
       "    </tr>\n",
       "    <tr>\n",
       "      <th>1</th>\n",
       "      <td>2</td>\n",
       "      <td>2013</td>\n",
       "      <td>3</td>\n",
       "      <td>1</td>\n",
       "      <td>1</td>\n",
       "      <td>8.0</td>\n",
       "      <td>8.0</td>\n",
       "      <td>4.0</td>\n",
       "      <td>7.0</td>\n",
       "      <td>300.0</td>\n",
       "      <td>77.0</td>\n",
       "      <td>-1.1</td>\n",
       "      <td>1023.2</td>\n",
       "      <td>-18.2</td>\n",
       "      <td>0.0</td>\n",
       "      <td>N</td>\n",
       "      <td>4.7</td>\n",
       "      <td>Aotizhongxin</td>\n",
       "    </tr>\n",
       "    <tr>\n",
       "      <th>2</th>\n",
       "      <td>3</td>\n",
       "      <td>2013</td>\n",
       "      <td>3</td>\n",
       "      <td>1</td>\n",
       "      <td>2</td>\n",
       "      <td>7.0</td>\n",
       "      <td>7.0</td>\n",
       "      <td>5.0</td>\n",
       "      <td>10.0</td>\n",
       "      <td>300.0</td>\n",
       "      <td>73.0</td>\n",
       "      <td>-1.1</td>\n",
       "      <td>1023.5</td>\n",
       "      <td>-18.2</td>\n",
       "      <td>0.0</td>\n",
       "      <td>NNW</td>\n",
       "      <td>5.6</td>\n",
       "      <td>Aotizhongxin</td>\n",
       "    </tr>\n",
       "    <tr>\n",
       "      <th>3</th>\n",
       "      <td>4</td>\n",
       "      <td>2013</td>\n",
       "      <td>3</td>\n",
       "      <td>1</td>\n",
       "      <td>3</td>\n",
       "      <td>6.0</td>\n",
       "      <td>6.0</td>\n",
       "      <td>11.0</td>\n",
       "      <td>11.0</td>\n",
       "      <td>300.0</td>\n",
       "      <td>72.0</td>\n",
       "      <td>-1.4</td>\n",
       "      <td>1024.5</td>\n",
       "      <td>-19.4</td>\n",
       "      <td>0.0</td>\n",
       "      <td>NW</td>\n",
       "      <td>3.1</td>\n",
       "      <td>Aotizhongxin</td>\n",
       "    </tr>\n",
       "    <tr>\n",
       "      <th>4</th>\n",
       "      <td>5</td>\n",
       "      <td>2013</td>\n",
       "      <td>3</td>\n",
       "      <td>1</td>\n",
       "      <td>4</td>\n",
       "      <td>3.0</td>\n",
       "      <td>3.0</td>\n",
       "      <td>12.0</td>\n",
       "      <td>12.0</td>\n",
       "      <td>300.0</td>\n",
       "      <td>72.0</td>\n",
       "      <td>-2.0</td>\n",
       "      <td>1025.2</td>\n",
       "      <td>-19.5</td>\n",
       "      <td>0.0</td>\n",
       "      <td>N</td>\n",
       "      <td>2.0</td>\n",
       "      <td>Aotizhongxin</td>\n",
       "    </tr>\n",
       "  </tbody>\n",
       "</table>\n",
       "</div>"
      ],
      "text/plain": [
       "   No  year  month  day  hour  PM2.5  PM10   SO2   NO2     CO    O3  TEMP  \\\n",
       "0   1  2013      3    1     0    4.0   4.0   4.0   7.0  300.0  77.0  -0.7   \n",
       "1   2  2013      3    1     1    8.0   8.0   4.0   7.0  300.0  77.0  -1.1   \n",
       "2   3  2013      3    1     2    7.0   7.0   5.0  10.0  300.0  73.0  -1.1   \n",
       "3   4  2013      3    1     3    6.0   6.0  11.0  11.0  300.0  72.0  -1.4   \n",
       "4   5  2013      3    1     4    3.0   3.0  12.0  12.0  300.0  72.0  -2.0   \n",
       "\n",
       "     PRES  DEWP  RAIN   wd  WSPM       station  \n",
       "0  1023.0 -18.8   0.0  NNW   4.4  Aotizhongxin  \n",
       "1  1023.2 -18.2   0.0    N   4.7  Aotizhongxin  \n",
       "2  1023.5 -18.2   0.0  NNW   5.6  Aotizhongxin  \n",
       "3  1024.5 -19.4   0.0   NW   3.1  Aotizhongxin  \n",
       "4  1025.2 -19.5   0.0    N   2.0  Aotizhongxin  "
      ]
     },
     "execution_count": 3,
     "metadata": {},
     "output_type": "execute_result"
    }
   ],
   "source": [
    "import pandas as pd\n",
    "\n",
    "# Daftar file CSV\n",
    "file_list = [\"PRSA_Data_Aotizhongxin_20130301-20170228.csv\", \"PRSA_Data_Changping_20130301-20170228.csv\", \"PRSA_Data_Dingling_20130301-20170228.csv\"]\n",
    "\n",
    "# Menggunakan loop untuk membaca dan menggabungkan file\n",
    "datagabungan = pd.concat([pd.read_csv(file) for file in file_list], ignore_index=True)\n",
    "\n",
    "# Melihat hasilnya\n",
    "datagabungan.head()"
   ]
  },
  {
   "cell_type": "markdown",
   "metadata": {
    "id": "QemsB4QfZhz8"
   },
   "source": [
    "### Assessing Data (Penilaian Data)\n",
    "ini merupakan tahapan untuk melakukan evaluasi data untuk mengidentifikasi masalah kualitas dan struktur data yang dapat mempengaruhi analisis dari mulai missing value, pencilan, ataupun tipe data yang tidak sesuai"
   ]
  },
  {
   "cell_type": "markdown",
   "metadata": {
    "id": "sedEZuV7Zhz_"
   },
   "source": [
    "1. Menampilkan 5 Baris Data Teratas¶"
   ]
  },
  {
   "cell_type": "code",
   "execution_count": 4,
   "metadata": {},
   "outputs": [
    {
     "name": "stdout",
     "output_type": "stream",
     "text": [
      "Baris dan kolom pada data set: (105192, 18)\n"
     ]
    }
   ],
   "source": [
    "# Memeriksa Jumlah Baris Dan Kolom \n",
    "\n",
    "print(\"Baris dan kolom pada data set:\", datagabungan.shape)"
   ]
  },
  {
   "cell_type": "code",
   "execution_count": 5,
   "metadata": {},
   "outputs": [
    {
     "name": "stdout",
     "output_type": "stream",
     "text": [
      "\n",
      "Tampilan Baris Dari 80000 Sampai 80010:\n",
      "         No  year  month  day  hour  PM2.5   PM10   SO2   NO2     CO     O3  \\\n",
      "80000  9873  2014      4   16     8   50.0   99.0   6.0  33.0  500.0   17.0   \n",
      "80001  9874  2014      4   16     9   99.0  156.0   8.0  47.0  700.0   15.0   \n",
      "80002  9875  2014      4   16    10   99.0  156.0   8.0  47.0  700.0   15.0   \n",
      "80003  9876  2014      4   16    11   68.0   85.0  14.0  62.0  700.0   27.0   \n",
      "80004  9877  2014      4   16    12   44.0   67.0  12.0  45.0  500.0   57.0   \n",
      "80005  9878  2014      4   16    13   73.0   40.0  11.0  18.0  300.0  110.0   \n",
      "80006  9879  2014      4   16    14   57.0   93.0  12.0  40.0  400.0   90.0   \n",
      "80007  9880  2014      4   16    15   65.0   88.0  11.0  49.0  500.0   84.0   \n",
      "80008  9881  2014      4   16    16   67.0   82.0  11.0  46.0  500.0   90.0   \n",
      "80009  9882  2014      4   16    17   68.0   45.0  10.0  55.0  500.0   89.0   \n",
      "\n",
      "       TEMP    PRES  DEWP  RAIN   wd  WSPM   station  \n",
      "80000  15.3  1007.1   2.1   0.0    W   0.6  Dingling  \n",
      "80001  16.2  1006.8  -0.5   0.0  SSE   0.6  Dingling  \n",
      "80002  17.0  1006.4  -0.7   0.0   SE   0.9  Dingling  \n",
      "80003  18.0  1005.6  -0.8   0.0   NE   1.0  Dingling  \n",
      "80004  18.3  1004.7  -2.1   0.0  ESE   1.7  Dingling  \n",
      "80005  18.9  1004.0  -2.7   0.0  ESE   1.7  Dingling  \n",
      "80006  19.0  1003.1  -2.6   0.0  ESE   1.7  Dingling  \n",
      "80007  19.5  1002.4  -2.8   0.0  ESE   1.8  Dingling  \n",
      "80008  19.8  1001.8  -4.5   0.0    E   2.3  Dingling  \n",
      "80009  19.5  1001.7  -3.4   0.0    E   1.8  Dingling  \n"
     ]
    }
   ],
   "source": [
    "#Menampilkan Baris Dari 80000 Sampai 80010\n",
    "\n",
    "print(\"\\nTampilan Baris Dari 80000 Sampai 80010:\")\n",
    "print(datagabungan.iloc[80000:80010])"
   ]
  },
  {
   "cell_type": "code",
   "execution_count": 6,
   "metadata": {},
   "outputs": [
    {
     "name": "stdout",
     "output_type": "stream",
     "text": [
      "\n",
      "Deskripsi Statistik:\n",
      "                  No           year         month            day  \\\n",
      "count  105192.000000  105192.000000  105192.00000  105192.000000   \n",
      "mean    17532.500000    2014.662560       6.52293      15.729637   \n",
      "std     10122.153028       1.177202       3.44872       8.800134   \n",
      "min         1.000000    2013.000000       1.00000       1.000000   \n",
      "25%      8766.750000    2014.000000       4.00000       8.000000   \n",
      "50%     17532.500000    2015.000000       7.00000      16.000000   \n",
      "75%     26298.250000    2016.000000      10.00000      23.000000   \n",
      "max     35064.000000    2017.000000      12.00000      31.000000   \n",
      "\n",
      "                hour          PM2.5           PM10            SO2  \\\n",
      "count  105192.000000  102714.000000  103236.000000  102899.000000   \n",
      "mean       11.500000      73.274027      96.143238      14.689739   \n",
      "std         6.922219      76.033342      86.990012      20.141019   \n",
      "min         0.000000       2.000000       2.000000       0.285600   \n",
      "25%         5.750000      17.000000      32.000000       2.000000   \n",
      "50%        11.500000      48.000000      72.000000       7.000000   \n",
      "75%        17.250000     103.000000     135.000000      18.000000   \n",
      "max        23.000000     898.000000     999.000000     341.000000   \n",
      "\n",
      "                 NO2            CO             O3           TEMP  \\\n",
      "count  102268.000000  99883.000000  101655.000000  105066.000000   \n",
      "mean       43.726067   1107.307420      60.952020      13.652255   \n",
      "std        33.896091   1094.581622      55.606775      11.376585   \n",
      "min         1.026500    100.000000       0.214200     -16.800000   \n",
      "25%        18.000000    400.000000      17.000000       3.300000   \n",
      "50%        35.000000    800.000000      51.000000      14.600000   \n",
      "75%        63.000000   1400.000000      85.000000      23.300000   \n",
      "max       290.000000  10000.000000     500.000000      41.400000   \n",
      "\n",
      "                PRES           DEWP           RAIN           WSPM  \n",
      "count  105072.000000  105066.000000  105070.000000  105092.000000  \n",
      "mean     1009.123270       2.045023       0.062719       1.805363  \n",
      "std        10.464315      13.798774       0.808716       1.277345  \n",
      "min       982.400000     -35.300000       0.000000       0.000000  \n",
      "25%      1000.600000      -9.600000       0.000000       1.000000  \n",
      "50%      1008.700000       2.500000       0.000000       1.500000  \n",
      "75%      1017.400000      14.700000       0.000000       2.300000  \n",
      "max      1042.000000      28.500000      72.500000      11.200000  \n"
     ]
    }
   ],
   "source": [
    "#Menampilkan Ringkasan Statistik Deskriptif\n",
    "\n",
    "print(\"\\nDeskripsi Statistik:\")\n",
    "print(datagabungan.describe())"
   ]
  },
  {
   "cell_type": "code",
   "execution_count": 7,
   "metadata": {},
   "outputs": [
    {
     "name": "stdout",
     "output_type": "stream",
     "text": [
      "Nilai yang hilang di setiap kolom:\n",
      "No            0\n",
      "year          0\n",
      "month         0\n",
      "day           0\n",
      "hour          0\n",
      "PM2.5      2478\n",
      "PM10       1956\n",
      "SO2        2293\n",
      "NO2        2924\n",
      "CO         5309\n",
      "O3         3537\n",
      "TEMP        126\n",
      "PRES        120\n",
      "DEWP        126\n",
      "RAIN        122\n",
      "wd          361\n",
      "WSPM        100\n",
      "station       0\n",
      "dtype: int64\n"
     ]
    }
   ],
   "source": [
    "#Memeriksa Nilai yang Hilang (Missing Values)\n",
    "print(\"Nilai yang hilang di setiap kolom:\")\n",
    "print(datagabungan.isnull().sum())"
   ]
  },
  {
   "cell_type": "code",
   "execution_count": 8,
   "metadata": {},
   "outputs": [
    {
     "name": "stdout",
     "output_type": "stream",
     "text": [
      "\n",
      " Tipe Data :\n",
      "No           int64\n",
      "year         int64\n",
      "month        int64\n",
      "day          int64\n",
      "hour         int64\n",
      "PM2.5      float64\n",
      "PM10       float64\n",
      "SO2        float64\n",
      "NO2        float64\n",
      "CO         float64\n",
      "O3         float64\n",
      "TEMP       float64\n",
      "PRES       float64\n",
      "DEWP       float64\n",
      "RAIN       float64\n",
      "wd          object\n",
      "WSPM       float64\n",
      "station     object\n",
      "dtype: object\n"
     ]
    }
   ],
   "source": [
    "#Memeriksa Tipe Data untuk Setiap Kolom\n",
    "\n",
    "print(\"\\n Tipe Data :\")\n",
    "print(datagabungan.dtypes)"
   ]
  },
  {
   "cell_type": "markdown",
   "metadata": {
    "id": "fi_vvFrTZh0C"
   },
   "source": [
    "### Cleaning Data (Pembersihan Data)\n",
    "ini merupakan tahapan penghapusan atau koreksi data yang bermasalah untuk memastikan data siap dianalisa"
   ]
  },
  {
   "cell_type": "code",
   "execution_count": 9,
   "metadata": {},
   "outputs": [
    {
     "ename": "NameError",
     "evalue": "name 'data_cleaned' is not defined",
     "output_type": "error",
     "traceback": [
      "\u001b[1;31m---------------------------------------------------------------------------\u001b[0m",
      "\u001b[1;31mNameError\u001b[0m                                 Traceback (most recent call last)",
      "Cell \u001b[1;32mIn[9], line 2\u001b[0m\n\u001b[0;32m      1\u001b[0m \u001b[38;5;66;03m#Menghapus duplikat\u001b[39;00m\n\u001b[1;32m----> 2\u001b[0m data_cleaned \u001b[38;5;241m=\u001b[39m \u001b[43mdata_cleaned\u001b[49m\u001b[38;5;241m.\u001b[39mdrop_duplicates()\n\u001b[0;32m      3\u001b[0m \u001b[38;5;28mprint\u001b[39m(data_cleaned\u001b[38;5;241m.\u001b[39mhead(\u001b[38;5;241m10\u001b[39m))\n",
      "\u001b[1;31mNameError\u001b[0m: name 'data_cleaned' is not defined"
     ]
    }
   ],
   "source": [
    "#Menghapus duplikat\n",
    "data_cleaned = data_cleaned.drop_duplicates()\n",
    "print(data_cleaned.head(10))"
   ]
  },
  {
   "cell_type": "code",
   "execution_count": null,
   "metadata": {},
   "outputs": [],
   "source": [
    "#Menghapus baris yang memiliki nilai yang hilang\n",
    "data_cleaned = data_combined.dropna()\n",
    "print(data_cleaned.head(10))"
   ]
  },
  {
   "cell_type": "code",
   "execution_count": null,
   "metadata": {},
   "outputs": [],
   "source": [
    "#Mengubah tipe data kolom yang sesuai\n",
    "\n",
    "data_cleaned['PM2.5'] = pd.to_numeric(data_cleaned['PM2.5'], errors='coerce')\n",
    "print(data_cleaned.head(5))"
   ]
  },
  {
   "cell_type": "markdown",
   "metadata": {
    "id": "a5unbEGdZh0E"
   },
   "source": [
    "## Exploratory Data Analysis (EDA)"
   ]
  },
  {
   "cell_type": "markdown",
   "metadata": {
    "id": "sOXKBqAPZh0H"
   },
   "source": [
    "### Explore ..."
   ]
  },
  {
   "cell_type": "code",
   "execution_count": null,
   "metadata": {
    "id": "18Ndzsl8Zh0I"
   },
   "outputs": [],
   "source": [
    "import pandas as pd \n",
    "#Membaca data dari masing-masing file CSV\n",
    "\n",
    "# Hitung Rata-Rata\n",
    "Rata1 = \"PRSA_Data_Aotizhongxin_20130301-20170228.csv\"\n",
    "Rata2 = \"PRSA_Data_Changping_20130301-20170228.csv\"\n",
    "Rata3 = \"PRSA_Data_Dingling_20130301-20170228.csv\"\n",
    "\n",
    "df1 = pd.read_csv(Rata1)\n",
    "df2 = pd.read_csv(Rata2)\n",
    "df3 = pd.read_csv(Rata3)\n",
    "\n",
    "PM10 = \"PM10\"\n",
    "HitungRata1 = df1[PM10].mean()\n",
    "HitungRata2 = df2[PM10].mean()\n",
    "HitungRata3 = df3[PM10].mean()\n",
    "\n",
    "print(f\"Rata-rata untuk kolom '{PM10}'{Rata1}: {HitungRata1}\")\n",
    "print(f\"Rata-rata untuk kolom '{PM10}'{Rata2}: {HitungRata2}\")\n",
    "print(f\"Rata-rata untuk kolom '{PM10}'{Rata3}: {HitungRata3}\")"
   ]
  },
  {
   "cell_type": "code",
   "execution_count": null,
   "metadata": {},
   "outputs": [],
   "source": [
    "import pandas as pd\n",
    "\n",
    "# Nama file CSV\n",
    "Rata1 = \"PRSA_Data_Aotizhongxin_20130301-20170228.csv\"\n",
    "Rata2 = \"PRSA_Data_Changping_20130301-20170228.csv\"\n",
    "Rata3 = \"PRSA_Data_Dingling_20130301-20170228.csv\"\n",
    "\n",
    "# Membaca file CSV\n",
    "df1 = pd.read_csv(Rata1)\n",
    "df2 = pd.read_csv(Rata2)\n",
    "df3 = pd.read_csv(Rata3)\n",
    "\n",
    "# Daftar kolom yang akan dianalisis\n",
    "kolom = [\"PM2.5\", \"PM10\", \"SO2\", \"NO2\", \"CO\", \"O3\", \"TEMP\", \"station\"]\n",
    "\n",
    "# Menghitung nilai tertinggi untuk setiap file\n",
    "max_values_df1 = df1[kolom].max()\n",
    "max_values_df2 = df2[kolom].max()\n",
    "max_values_df3 = df3[kolom].max()\n",
    "\n",
    "# Menampilkan hasil\n",
    "print(\"Nilai tertinggi untuk setiap kolom (File 1 - Aotizhongxin):\")\n",
    "print(max_values_df1)\n",
    "\n",
    "print(\"\\nNilai tertinggi untuk setiap kolom (File 2 - Changping):\")\n",
    "print(max_values_df2)\n",
    "\n",
    "print(\"\\nNilai tertinggi untuk setiap kolom (File 3 - Dingling):\")\n",
    "print(max_values_df3)\n"
   ]
  },
  {
   "cell_type": "markdown",
   "metadata": {
    "id": "msX7Kzy0Zh0J"
   },
   "source": [
    "## Visualization & Explanatory Analysis"
   ]
  },
  {
   "cell_type": "markdown",
   "metadata": {
    "id": "MaywlylLZh0L"
   },
   "source": [
    "### Pertanyaan 1:"
   ]
  },
  {
   "cell_type": "code",
   "execution_count": 10,
   "metadata": {
    "id": "nqh9C8UFZh0M"
   },
   "outputs": [
    {
     "data": {
      "image/png": "[encoded data removed]",
      "text/plain": [
       "<Figure size 1000x600 with 1 Axes>"
      ]
     },
     "metadata": {},
     "output_type": "display_data"
    }
   ],
   "source": [
    "#PERTANYAAN 1 FAUZI MUTTAQIN_10123173 (APAKAH ADA PERBEDAAN SUHU TERENDAH DARI KETIGA STASIUN TERSEBUT?)\n",
    "import pandas as pd\n",
    "import matplotlib.pyplot as plt\n",
    "import numpy as np\n",
    "\n",
    "# Contoh data suhu terendah (sesuaikan dengan data yang Anda miliki)\n",
    "kolom = ['Jan', 'Feb', 'Mar', 'Apr', 'May']  # Contoh nama bulan atau kolom\n",
    "min_values_df1 = [2, 3, 4, 5, 6]  # Suhu terendah Aotizhongxin\n",
    "min_values_df2 = [3, 4, 5, 6, 7]  # Suhu terendah Changping\n",
    "min_values_df3 = [1, 2, 3, 4, 5]  # Suhu terendah Dingling\n",
    "\n",
    "# Membuat DataFrame untuk visualisasi\n",
    "df_min = pd.DataFrame({\n",
    "    'Kolom': kolom,\n",
    "    'Aotizhongxin': min_values_df1,\n",
    "    'Changping': min_values_df2,\n",
    "    'Dingling': min_values_df3\n",
    "})\n",
    "\n",
    "# Menyiapkan posisi untuk setiap batang pada grafik\n",
    "x = np.arange(len(df_min))  # Posisi batang pada sumbu X\n",
    "width = 0.2  # Lebar batang\n",
    "\n",
    "# Membuat grafik\n",
    "plt.figure(figsize=(10, 6))\n",
    "\n",
    "# Menambahkan batang untuk setiap lokasi (file) dengan offset\n",
    "plt.bar(x - width, df_min['Aotizhongxin'], width=width, label='Aotizhongxin')\n",
    "plt.bar(x, df_min['Changping'], width=width, label='Changping')\n",
    "plt.bar(x + width, df_min['Dingling'], width=width, label='Dingling')\n",
    "\n",
    "# Menambahkan label dan judul\n",
    "plt.xlabel('Kolom')\n",
    "plt.ylabel('Suhu Terendah')\n",
    "plt.title('Suhu Terendah untuk Setiap Kolom pada Tiga Stasiun')\n",
    "plt.xticks(x, df_min['Kolom'], rotation=45, ha='right')\n",
    "\n",
    "# Menambahkan legenda\n",
    "plt.legend()\n",
    "\n",
    "# Menampilkan grafik\n",
    "plt.tight_layout()\n",
    "plt.show()\n"
   ]
  },
  {
   "cell_type": "markdown",
   "metadata": {
    "id": "RvRncHmxZh0N"
   },
   "source": [
    "### Pertanyaan 2:"
   ]
  },
  {
   "cell_type": "code",
   "execution_count": 11,
   "metadata": {
    "id": "npgvw5lEZh0O"
   },
   "outputs": [
    {
     "name": "stdout",
     "output_type": "stream",
     "text": [
      "           No  year  month  day  hour  PM2.5   PM10   SO2   NO2      CO    O3  \\\n",
      "267       268  2013      3   12     3  117.0  127.0  73.0  81.0     NaN  47.0   \n",
      "268       269  2013      3   12     4  112.0  140.0  68.0  81.0  1399.0  47.0   \n",
      "269       270  2013      3   12     5  140.0  237.0  34.0  74.0  2100.0  47.0   \n",
      "270       271  2013      3   12     6  146.0  165.0  22.0  66.0  2100.0  47.0   \n",
      "271       272  2013      3   12     7  115.0  121.0  21.0  77.0  2100.0  47.0   \n",
      "...       ...   ...    ...  ...   ...    ...    ...   ...   ...     ...   ...   \n",
      "105018  34891  2017      2   21    18  110.0  110.0   6.0  90.0  1900.0   2.0   \n",
      "105019  34892  2017      2   21    19  101.0  101.0   4.0  90.0  1700.0   2.0   \n",
      "105020  34893  2017      2   21    20   88.0   88.0   3.0  82.0  1400.0   5.0   \n",
      "105021  34894  2017      2   21    21   85.0   85.0   3.0  84.0  1400.0   3.0   \n",
      "105022  34895  2017      2   21    22   79.0   79.0   2.0  85.0  1400.0   2.0   \n",
      "\n",
      "        TEMP    PRES  DEWP  RAIN   wd  WSPM       station  \n",
      "267      6.4  1005.8  -1.0   0.1    N   2.2  Aotizhongxin  \n",
      "268      4.3  1006.3   1.5   0.4    E   0.9  Aotizhongxin  \n",
      "269      4.7  1006.1   1.5   0.1  NNE   1.3  Aotizhongxin  \n",
      "270      4.1  1006.2   2.6   0.9    W   1.0  Aotizhongxin  \n",
      "271      3.5  1006.9   2.2   0.9   NW   1.4  Aotizhongxin  \n",
      "...      ...     ...   ...   ...  ...   ...           ...  \n",
      "105018  -2.0  1017.1  -3.7   0.1  ESE   2.5      Dingling  \n",
      "105019  -2.2  1017.1  -3.8   0.3  ESE   2.4      Dingling  \n",
      "105020  -2.4  1017.0  -3.7   0.5  ESE   2.5      Dingling  \n",
      "105021  -2.7  1016.8  -3.8   0.6    E   2.2      Dingling  \n",
      "105022  -2.8  1016.5  -3.9   0.2  ESE   1.7      Dingling  \n",
      "\n",
      "[4080 rows x 18 columns]\n",
      "Jumlah data hujan: 4080\n"
     ]
    }
   ],
   "source": [
    "#PERTANYAAN NO 2 10123178 Muhammad Faiz Arie Tito (TAMPILAN DATA HUJAN)\n",
    "import pandas as pd\n",
    "\n",
    "# Gabungkan data dari beberapa file\n",
    "file_list = [\"PRSA_Data_Aotizhongxin_20130301-20170228.csv\", \n",
    "             \"PRSA_Data_Changping_20130301-20170228.csv\", \n",
    "             \"PRSA_Data_Dingling_20130301-20170228.csv\"]\n",
    "\n",
    "# Membaca dan menggabungkan file\n",
    "data_combined = pd.concat([pd.read_csv(file) for file in file_list], ignore_index=True)\n",
    "\n",
    "# Menyaring data hujan (RAIN > 0)\n",
    "rain_data = data_combined[data_combined['RAIN'] > 0]\n",
    "\n",
    "# Menampilkan data hujan\n",
    "print(rain_data)\n",
    "\n",
    "# Jika ingin menampilkan jumlah data hujan\n",
    "print(f\"Jumlah data hujan: {len(rain_data)}\")\n"
   ]
  },
  {
   "cell_type": "code",
   "execution_count": 12,
   "metadata": {},
   "outputs": [
    {
     "name": "stdout",
     "output_type": "stream",
     "text": [
      "Rata-rata polutan saat WSPM < 0.4:\n",
      " PM2.5     98.024183\n",
      "PM10     117.560619\n",
      "SO2       14.625669\n",
      "NO2       67.851456\n",
      "dtype: float64\n"
     ]
    }
   ],
   "source": [
    "#PERTANYAAN NO 3 10123202 - Rizal AF (Berapa Rata-Rata Konsentrasi Polutan (PM2.5, PM10, SO2, NO2) Selama Kecepatan Angin (WSPM) Lebih Kecil dari 0.4)\n",
    "import pandas as pd\n",
    "\n",
    "# Daftar file CSV\n",
    "filelist = [\n",
    "    \"PRSA_Data_Aotizhongxin_20130301-20170228.csv\", \n",
    "    \"PRSA_Data_Changping_20130301-20170228.csv\", \n",
    "    \"PRSA_Data_Dingling_20130301-20170228.csv\"\n",
    "]\n",
    "\n",
    "# Membaca dan menggabungkan file CSV\n",
    "datagabungan = pd.concat([pd.read_csv(file) for file in filelist], ignore_index=True)\n",
    "\n",
    "# Memfilter data dengan WSPM < 0.4\n",
    "filtered_data = datagabungan[datagabungan[\"WSPM\"] < 0.4]\n",
    "\n",
    "# Hitung rata-rata polutan\n",
    "mean_pollutants = filtered_data[[\"PM2.5\", \"PM10\", \"SO2\", \"NO2\"]].mean()\n",
    "print(\"Rata-rata polutan saat WSPM < 0.4:\\n\", mean_pollutants)\n"
   ]
  },
  {
   "cell_type": "code",
   "execution_count": null,
   "metadata": {},
   "outputs": [],
   "source": [
    "#PERTANYAAN NO 4 10123183 Kaka Sofyan M (Apakah ada hari-hari dengan konsentrasi PM2.5 ekstrem (sangat rendah) di setiap lokasi, dan kapan itu terjadi?)\n",
    "import pandas as pd\n",
    "\n",
    "# Memuat dataset\n",
    "file_dataset = [\n",
    "    \"PRSA_Data_Aotizhongxin_20130301-20170228.csv\",\n",
    "    \"PRSA_Data_Changping_20130301-20170228.csv\",\n",
    "    \"PRSA_Data_Dingling_20130301-20170228.csv\"\n",
    "]\n",
    "\n",
    "lokasi = [\"Aotizhongxin\", \"Changping\", \"Dingling\"]\n",
    "dataframe_lokasi = {}\n",
    "\n",
    "# Membaca semua file dan menyimpan dalam dictionary\n",
    "for file, nama_lokasi in zip(file_dataset, lokasi):\n",
    "    data = pd.read_csv(file)\n",
    "    data['lokasi'] = nama_lokasi  # Menambahkan kolom lokasi\n",
    "    data['tanggal'] = pd.to_datetime(data[['year', 'month', 'day']])  # Menggabungkan kolom tanggal\n",
    "    dataframe_lokasi[nama_lokasi] = data\n",
    "\n",
    "# Menggabungkan semua data untuk analisis\n",
    "semua_data = pd.concat(dataframe_lokasi.values(), ignore_index=True)\n",
    "\n",
    "# Menentukan nilai ekstrem rendah (persentil ke-1 dari PM2.5)\n",
    "ambang_batas_rendah = semua_data['PM2.5'].quantile(0.01)  # Menghitung persentil ke-1\n",
    "hari_ekstrem_rendah = semua_data[semua_data['PM2.5'] < ambang_batas_rendah]\n",
    "\n",
    "# Mengurutkan berdasarkan konsentrasi PM2.5 (terendah dulu)\n",
    "hari_ekstrem_rendah = hari_ekstrem_rendah.sort_values(by='PM2.5')\n",
    "\n",
    "# Menampilkan hasil\n",
    "print(f\"Ambang batas untuk nilai PM2.5 ekstrem rendah: {ambang_batas_rendah:.2f}\")\n",
    "print(\"Hari-hari dengan nilai PM2.5 ekstrem rendah di setiap lokasi:\")\n",
    "print(hari_ekstrem_rendah[['tanggal', 'lokasi', 'PM2.5']])\n"
   ]
  },
  {
   "cell_type": "code",
   "execution_count": null,
   "metadata": {},
   "outputs": [],
   "source": [
    "#PERTANYAAN NO 5 10123186 galang nugraha (Pada bulan apa konsentrasi PM10 rata-rata tertinggi selama setahun?)\n",
    "import pandas as pd\n",
    "import matplotlib.pyplot as plt\n",
    "\n",
    "# Membaca data\n",
    "data = pd.read_csv('PRSA_Data_Aotizhongxin_20130301-20170228.csv')\n",
    "\n",
    "# Jika kolom 'month' tidak ada, buat kolom bulan dari 'tanggal'\n",
    "# Mengasumsikan kolom 'tanggal' terdiri dari tahun, bulan, dan hari\n",
    "data['tanggal'] = pd.to_datetime(data[['year', 'month', 'day']])  # Gabungkan kolom tahun, bulan, dan hari\n",
    "data['month'] = data['tanggal'].dt.month  # Ambil bulan dari tanggal\n",
    "\n",
    "# Menghitung rata-rata bulanan PM10\n",
    "monthly_avg_pm10 = data.groupby('month')['PM10'].mean()\n",
    "\n",
    "# Menentukan bulan dengan konsentrasi PM10 tertinggi\n",
    "highest_month_pm10 = monthly_avg_pm10.idxmax()\n",
    "highest_value_pm10 = monthly_avg_pm10.max()\n",
    "\n",
    "print(f'Bulan dengan konsentrasi PM10 rata-rata tertinggi: {highest_month_pm10} dengan nilai {highest_value_pm10}')\n",
    "\n",
    "# Visualisasi\n",
    "monthly_avg_pm10.plot(kind='bar', color='skyblue')\n",
    "plt.title('Rata-rata Konsentrasi PM10 per Bulan')\n",
    "plt.xlabel('Bulan')\n",
    "plt.ylabel('Konsentrasi PM10')\n",
    "plt.xticks(rotation=45)\n",
    "plt.show()\n"
   ]
  },
  {
   "cell_type": "code",
   "execution_count": null,
   "metadata": {},
   "outputs": [],
   "source": [
    "#PERTANYAAN NO 6 10123182 Moch Dicky (Pada jam berapa konsentrasi PM2.5 menunjukkan nilai rata-rata terendah di stasiun Aotizhongxin?)\n",
    "import pandas as pd\n",
    "import matplotlib.pyplot as plt\n",
    "\n",
    "# Membaca dataset Aotizhongxin\n",
    "data = pd.read_csv('PRSA_Data_Aotizhongxin_20130301-20170228.csv')\n",
    "\n",
    "# Mengasumsikan kolom 'hour' sudah ada atau mengekstrak jam dari kolom 'tanggal' jika diperlukan\n",
    "# Jika belum ada kolom 'hour', kita buat dari kolom 'tanggal' (tahun-bulan-hari jam-menit-detik)\n",
    "data['tanggal'] = pd.to_datetime(data[['year', 'month', 'day', 'hour']])  # Pastikan kolom hour ada\n",
    "data['hour'] = data['tanggal'].dt.hour  # Ekstrak jam dari kolom 'tanggal'\n",
    "\n",
    "# Mengelompokkan data berdasarkan jam dan menghitung rata-rata PM2.5 setiap jam\n",
    "hourly_variation = data.groupby('hour')['PM2.5'].mean()\n",
    "\n",
    "# Menemukan jam dengan konsentrasi PM2.5 terendah\n",
    "index_min = hourly_variation.idxmin()  # Jam dengan nilai terendah\n",
    "\n",
    "# Output hasil\n",
    "print(f\"Konsentrasi PM2.5 terendah terjadi pada jam ke-{index_min} dengan nilai {hourly_variation[index_min]:.2f}\")\n",
    "\n",
    "# Visualisasi\n",
    "plt.figure(figsize=(10, 6))\n",
    "plt.plot(hourly_variation.index, hourly_variation.values, marker='o', color='b')\n",
    "plt.title('Variasi PM2.5 Setiap Jam di Aotizhongxin')\n",
    "plt.xlabel('Jam Sehari')\n",
    "plt.ylabel('Rata-rata Konsentrasi PM2.5')\n",
    "plt.grid(True)\n",
    "plt.xticks(range(0, 24))  # Memberikan Label Pada jam\n",
    "plt.show()\n"
   ]
  },
  {
   "cell_type": "markdown",
   "metadata": {
    "id": "9AfCfr6VZh0O"
   },
   "source": [
    "## Conclusion"
   ]
  },
  {
   "cell_type": "markdown",
   "metadata": {
    "id": "HXuHr1lSZh0P"
   },
   "source": [
    "- Conclution pertanyaan 1\n",
    "- conclution pertanyaan 2"
   ]
  },
  {
   "cell_type": "markdown",
   "metadata": {
    "id": "jff0Id00Zh0R"
   },
   "source": []
  }
 ],
 "metadata": {
  "colab": {
   "provenance": []
  },
  "kernelspec": {
   "display_name": "Python 3 (ipykernel)",
   "language": "python",
   "name": "python3"
  },
  "language_info": {
   "codemirror_mode": {
    "name": "ipython",
    "version": 3
   },
   "file_extension": ".py",
   "mimetype": "text/x-python",
   "name": "python",
   "nbconvert_exporter": "python",
   "pygments_lexer": "ipython3",
   "version": "3.10.0"
  },
  "vscode": {
   "interpreter": {
    "hash": "972b3bf27e332e87b5379f2791f6ef9dfc79c71018c370b0d7423235e20fe4d7"
   }
  }
 },
 "nbformat": 4,
 "nbformat_minor": 4
}
